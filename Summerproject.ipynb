{
 "cells": [
  {
   "cell_type": "code",
   "execution_count": 4,
   "id": "292ee183-abb0-4b47-ab31-43c0abd689d7",
   "metadata": {},
   "outputs": [],
   "source": [
    "import numpy as np\n",
    "data = np.loadtxt(\"fnu.txt\")\n",
    "import math\n"
   ]
  },
  {
   "cell_type": "code",
   "execution_count": null,
   "id": "09345e59-b90c-4849-930d-457b6d58b0ba",
   "metadata": {},
   "outputs": [],
   "source": []
  },
  {
   "cell_type": "code",
   "execution_count": 5,
   "id": "af582a6f-9e15-44f7-bae0-856b4500f8d3",
   "metadata": {},
   "outputs": [
    {
     "name": "stdout",
     "output_type": "stream",
     "text": [
      "2.0957338425975565e+28\n"
     ]
    },
    {
     "data": {
      "image/png": "[encoded data removed]",
      "text/plain": [
       "<Figure size 432x288 with 1 Axes>"
      ]
     },
     "metadata": {
      "needs_background": "light"
     },
     "output_type": "display_data"
    }
   ],
   "source": [
    "import matplotlib.pyplot as plt\n",
    "from astropy.cosmology import Planck15\n",
    "\n",
    "t_0 = data[:,0]\n",
    "F_nu = data[:,1]\n",
    "\n",
    "theta_0 = math.pi/18\n",
    "E_52 = 80\n",
    "n_0 = 1 \n",
    "z = 1\n",
    "theta_obs = 2*theta_0\n",
    "nu = 5*pow(10,4)\n",
    "\n",
    "\n",
    "t_jet = 6.2*(1+z)*((E_52/n_0)**(1/3))*((theta_0/0.1)**(8/3))\n",
    "\n",
    "gamma = (theta_0**(-1))*((t_0/t_jet)**(-1/2))   #equation for t_0 > t_jet\n",
    "a = 1/((1+gamma**2)*(theta_obs**2))             \n",
    "t = a*t_0\n",
    "D = Planck15.luminosity_distance(z=1).cgs.value\n",
    "\n",
    "\n",
    "a3 = (gamma*theta_obs)**(-6)\n",
    "\n",
    "\n",
    "F_nu1 = a3*F_nu\n",
    "\n",
    "\n",
    "L = 4*math.pi*(D**2)*nu*F_nu1\n",
    "\n",
    "\n",
    "plt.plot(t, L)\n",
    "\n",
    "\n",
    "plt.xlabel('t (days)')\n",
    "plt.ylabel('L_B')\n",
    "\n",
    "\n",
    "#plt.xlim(pow(10,-1),pow(10,3))\n",
    "#if not args and not kwargs:\n",
    " #   return ax.get_ylim()\n",
    "#ret = ax.set_ylim(0, pow(10,47))\n",
    "#return ret\n",
    "\n",
    "#plt.ylim(0,pow(10,47))\n",
    "print(D)\n",
    "plt.show()"
   ]
  },
  {
   "cell_type": "code",
   "execution_count": null,
   "id": "f7706855-f485-43e7-9f00-cc9a8f4f1464",
   "metadata": {},
   "outputs": [],
   "source": []
  },
  {
   "cell_type": "code",
   "execution_count": null,
   "id": "bda074f7-81bb-4fe6-98d4-4a19f42332d6",
   "metadata": {},
   "outputs": [],
   "source": []
  }
 ],
 "metadata": {
  "kernelspec": {
   "display_name": "Python 3",
   "language": "python",
   "name": "python3"
  },
  "language_info": {
   "codemirror_mode": {
    "name": "ipython",
    "version": 3
   },
   "file_extension": ".py",
   "mimetype": "text/x-python",
   "name": "python",
   "nbconvert_exporter": "python",
   "pygments_lexer": "ipython3",
   "version": "3.7.4"
  },
  "toc-autonumbering": false
 },
 "nbformat": 4,
 "nbformat_minor": 5
}
