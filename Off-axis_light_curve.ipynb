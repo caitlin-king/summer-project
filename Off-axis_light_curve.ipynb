{
 "cells": [
  {
   "cell_type": "code",
   "execution_count": 1,
   "id": "a6a80fe4-dd5c-45de-a1a4-7e36cf92f927",
   "metadata": {},
   "outputs": [],
   "source": [
    "import numpy as np\n",
    "data = np.loadtxt(\"fnu.txt\")\n",
    "import math\n"
   ]
  },
  {
   "cell_type": "code",
   "execution_count": 15,
   "id": "b8edd46e-df5e-4580-a11e-19d5465386bc",
   "metadata": {},
   "outputs": [
    {
     "name": "stdout",
     "output_type": "stream",
     "text": [
      "the value of t_jet with z=1 is:\n",
      "235.93443297046386\n",
      "the values of gamma are:\n",
      "[1.89361385e+00 1.09277267e+00 8.45676121e-01 ... 1.71089508e-03\n",
      " 1.70831454e-03 1.70606612e-03]\n"
     ]
    },
    {
     "data": {
      "image/png": "[encoded data removed]",
      "text/plain": [
       "<Figure size 432x288 with 1 Axes>"
      ]
     },
     "metadata": {
      "needs_background": "light"
     },
     "output_type": "display_data"
    }
   ],
   "source": [
    "import matplotlib.pyplot as plt\n",
    "from astropy.cosmology import Planck15\n",
    "\n",
    "t_0 = data[:,0]\n",
    "F_nu = data[:,1]\n",
    "\n",
    "theta_0 = math.pi/18\n",
    "E_52 = 80\n",
    "n_0 = 1 \n",
    "z = 1\n",
    "theta_obs = 2*theta_0\n",
    "nu = 5*pow(10,4)\n",
    "nu_0 = 1*pow(10,14)\n",
    "\n",
    "t_jet = 6.2*(1+z)*((E_52/n_0)**(1/3))*((theta_0/0.1)**(8/3))\n",
    "\n",
    "gamma = (theta_0**(-1))*((t_0/t_jet)**(-1/2))   #Lorentz factor equation for t_0 > t_jet\n",
    "a = 1/((1+gamma**2)*(theta_obs**2))             \n",
    "t = a*t_0\n",
    "D = Planck15.luminosity_distance(z=1).cgs.value\n",
    "\n",
    "print(\"the value of t_jet with z=1 is:\")\n",
    "print(t_jet)\n",
    "\n",
    "print(\"the values of gamma are:\")\n",
    "print(gamma)\n",
    "\n",
    "plt.plot(t_0, gamma)\n",
    "\n",
    "plt.xscale('log')\n",
    "#plt.yscale('log')"
   ]
  },
  {
   "cell_type": "code",
   "execution_count": null,
   "id": "a8a9b84c-f1f2-4e16-8607-ca0df0b15ffa",
   "metadata": {},
   "outputs": [],
   "source": []
  }
 ],
 "metadata": {
  "kernelspec": {
   "display_name": "Python 3",
   "language": "python",
   "name": "python3"
  },
  "language_info": {
   "codemirror_mode": {
    "name": "ipython",
    "version": 3
   },
   "file_extension": ".py",
   "mimetype": "text/x-python",
   "name": "python",
   "nbconvert_exporter": "python",
   "pygments_lexer": "ipython3",
   "version": "3.7.4"
  }
 },
 "nbformat": 4,
 "nbformat_minor": 5
}
