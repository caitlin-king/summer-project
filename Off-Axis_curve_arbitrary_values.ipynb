{
 "cells": [
  {
   "cell_type": "code",
   "execution_count": 1,
   "id": "9c2021f6-5806-444f-a6b5-45a69351dfee",
   "metadata": {},
   "outputs": [],
   "source": [
    "import numpy as np\n",
    "data = np.loadtxt(\"fnu.txt\")\n",
    "import math"
   ]
  },
  {
   "cell_type": "code",
   "execution_count": 2,
   "id": "59cd4469-7e17-40aa-b105-34ed952b3140",
   "metadata": {},
   "outputs": [],
   "source": [
    "import matplotlib.pyplot as plt\n",
    "from astropy.cosmology import Planck15\n",
    "\n",
    "t_0 = data[:,0]\n",
    "F_nu = data[:,1]\n",
    "\n",
    "theta_0 = math.pi/18\n",
    "E_52 = 80\n",
    "n_0 = 1 \n",
    "z = 1\n",
    "theta_obs = 2*theta_0\n",
    "nu_0 = 1*pow(10,14)\n",
    "\n",
    "t_jet = 6.2*(1+z)*((E_52/n_0)**(1/3))*((theta_0/0.1)**(8/3))\n",
    "\n",
    "gamma = (theta_0**(-1))*((t_0/t_jet)**(-1/2))   #equation for t_0 > t_jet\n",
    "a = 1/((1+gamma**2)*(theta_obs**2))\n",
    "\n",
    "a3 = (gamma*theta_obs)**(-6)\n",
    "\n",
    "\n",
    "F_nu1 = a3*F_nu\n",
    "\n",
    "\n",
    "def F(nu):\n",
    "    \n",
    "    Fnu = (nu*F_nu)/nu_0\n",
    "    return Fnu\n",
    "\n",
    "\n",
    "def F(t):\n",
    "    \n",
    "    Fnu = np.interp(t, t_0, F_nu) \n",
    "    return Fnu"
   ]
  },
  {
   "cell_type": "code",
   "execution_count": 8,
   "id": "7b5a82da-2b34-404b-89da-0d0aec64f639",
   "metadata": {},
   "outputs": [
    {
     "name": "stdout",
     "output_type": "stream",
     "text": [
      "[9.033e-28 1.035e-27 1.160e-27 ... 3.990e-36 3.971e-36 3.952e-36]\n"
     ]
    }
   ],
   "source": [
    "\n",
    "\n",
    "def F(nu, t):\n",
    "    \n",
    "    Fnu = (nu*F_nu)/nu_0\n",
    "    Fnu1 = np.interp(t, t_0, F_nu)\n",
    "    \n",
    "    return Fnu\n",
    "    return Fnu1\n",
    "\n",
    "\n",
    "print(F(1*pow(10,14), 3*pow(10,10)))"
   ]
  },
  {
   "cell_type": "code",
   "execution_count": null,
   "id": "93ec244e-c509-472d-89a1-f9654f206a08",
   "metadata": {},
   "outputs": [],
   "source": []
  }
 ],
 "metadata": {
  "kernelspec": {
   "display_name": "Python 3",
   "language": "python",
   "name": "python3"
  },
  "language_info": {
   "codemirror_mode": {
    "name": "ipython",
    "version": 3
   },
   "file_extension": ".py",
   "mimetype": "text/x-python",
   "name": "python",
   "nbconvert_exporter": "python",
   "pygments_lexer": "ipython3",
   "version": "3.7.4"
  }
 },
 "nbformat": 4,
 "nbformat_minor": 5
}
