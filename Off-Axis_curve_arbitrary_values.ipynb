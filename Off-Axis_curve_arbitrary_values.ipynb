{
 "cells": [
  {
   "cell_type": "code",
   "execution_count": 1,
   "id": "9c2021f6-5806-444f-a6b5-45a69351dfee",
   "metadata": {},
   "outputs": [],
   "source": [
    "import numpy as np\n",
    "data = np.loadtxt(\"fnu.txt\")\n",
    "import math\n"
   ]
  },
  {
   "cell_type": "code",
   "execution_count": 2,
   "id": "59cd4469-7e17-40aa-b105-34ed952b3140",
   "metadata": {},
   "outputs": [],
   "source": [
    "import matplotlib.pyplot as plt\n",
    "from astropy.cosmology import Planck15\n",
    "\n",
    "t_0 = data[:,0]\n",
    "F_nu = data[:,1]\n",
    "\n",
    "theta_0 = math.pi/18\n",
    "E_52 = 80\n",
    "n_0 = 1 \n",
    "z = 1\n",
    "theta_obs = 3*theta_0\n",
    "nu_0 = 1*pow(10,14)\n",
    "D = Planck15.luminosity_distance(z=1).cgs.value\n",
    "\n",
    "t_jet = 6.2*(1+z)*((E_52/n_0)**(1/3))*((theta_0/0.1)**(8/3))\n",
    "\n",
    "gamma = (theta_0**(-1))*((t_0/t_jet)**(-1/2))   #equation for t_0 > t_jet\n",
    "a = 1/((1+gamma**2)*(theta_obs**2))\n",
    "\n",
    "a3 = (gamma*theta_obs)**(-6)\n",
    "\n",
    "\n",
    "t_days = t_0/(86400)\n"
   ]
  },
  {
   "cell_type": "code",
   "execution_count": 4,
   "id": "7b5a82da-2b34-404b-89da-0d0aec64f639",
   "metadata": {},
   "outputs": [
    {
     "name": "stdout",
     "output_type": "stream",
     "text": [
      "[4.15984049e-34 1.12627970e-32 5.24325276e-32 ... 7.64689178e-16\n",
      " 7.71646126e-16 7.77767959e-16]\n"
     ]
    },
    {
     "data": {
      "image/png": "[encoded data removed]",
      "text/plain": [
       "<Figure size 432x288 with 1 Axes>"
      ]
     },
     "metadata": {
      "needs_background": "light"
     },
     "output_type": "display_data"
    }
   ],
   "source": [
    "#The off-axis light curve with both the arbitrary frequency and time functions combined\n",
    "\n",
    "def F(nu, t):\n",
    "    \n",
    "    Fnu_interp = np.interp(t, t_0, F_nu)\n",
    "    \n",
    "    Fnu_combined = (nu*Fnu_interp)/nu_0\n",
    "\n",
    "    \n",
    "    return Fnu_combined\n",
    "\n",
    "Fnu_off = a3*F(1*pow(10,16), 3*pow(10,10))\n",
    "L_off = 4*math.pi*(D**2)*nu_0*Fnu_off\n",
    "\n",
    "print(Fnu_off)     #example\n",
    "\n",
    "plt.plot(t_0, Fnu_off)\n",
    "plt.xscale('log')\n",
    "plt.yscale('log')\n"
   ]
  },
  {
   "cell_type": "code",
   "execution_count": null,
   "id": "93ec244e-c509-472d-89a1-f9654f206a08",
   "metadata": {},
   "outputs": [],
   "source": []
  }
 ],
 "metadata": {
  "kernelspec": {
   "display_name": "Python 3",
   "language": "python",
   "name": "python3"
  },
  "language_info": {
   "codemirror_mode": {
    "name": "ipython",
    "version": 3
   },
   "file_extension": ".py",
   "mimetype": "text/x-python",
   "name": "python",
   "nbconvert_exporter": "python",
   "pygments_lexer": "ipython3",
   "version": "3.7.4"
  }
 },
 "nbformat": 4,
 "nbformat_minor": 5
}
